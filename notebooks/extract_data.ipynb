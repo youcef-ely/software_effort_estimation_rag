{
 "cells": [
  {
   "cell_type": "code",
   "execution_count": 1,
   "id": "b036aa02",
   "metadata": {},
   "outputs": [
    {
     "name": "stderr",
     "output_type": "stream",
     "text": [
      "/workspaces/software_effort_estimation_rag/venv/lib/python3.12/site-packages/tqdm/auto.py:21: TqdmWarning: IProgress not found. Please update jupyter and ipywidgets. See https://ipywidgets.readthedocs.io/en/stable/user_install.html\n",
      "  from .autonotebook import tqdm as notebook_tqdm\n"
     ]
    }
   ],
   "source": [
    "import os\n",
    "import sys\n",
    "import pretty_errors\n",
    "import PyPDF2\n",
    "from unstructured.partition.pdf import partition_pdf"
   ]
  },
  {
   "cell_type": "markdown",
   "id": "f2a7c849",
   "metadata": {},
   "source": [
    "The PDF contains several pages with irrelevant or uninformative content. To optimize processing, we will first identify and select only the relevant pages before extracting elements from them."
   ]
  },
  {
   "cell_type": "code",
   "execution_count": null,
   "id": "b04e6e8d",
   "metadata": {},
   "outputs": [],
   "source": [
    "irrelevant_content_pages = list(range(0, 9)) + list(range(51, 54))\n",
    "\n",
    "with open('../see_report.pdf', 'rb') as file:\n",
    "    reader = PyPDF2.PdfReader(file)\n",
    "    total_pages = len(reader.pages)\n",
    "    writer = PyPDF2.PdfWriter()\n",
    " \n",
    "    remaining_pages = filter(lambda x: x not in irrelevant_content_pages, range(total_pages))   \n",
    "\n",
    "    for page_num in remaining_pages:\n",
    "        writer.add_page(reader.pages[page_num])\n",
    "        "
   ]
  },
  {
   "cell_type": "code",
   "execution_count": null,
   "id": "a6010575",
   "metadata": {},
   "outputs": [],
   "source": []
  },
  {
   "cell_type": "code",
   "execution_count": 3,
   "id": "bb6a9b00",
   "metadata": {},
   "outputs": [
    {
     "name": "stderr",
     "output_type": "stream",
     "text": [
      "Cannot set gray non-stroke color because /'P28' is an invalid float value\n"
     ]
    },
    {
     "name": "stdout",
     "output_type": "stream",
     "text": [
      "Warning: No languages specified, defaulting to English.\n"
     ]
    },
    {
     "name": "stderr",
     "output_type": "stream",
     "text": [
      "Cannot set gray non-stroke color because /'P28' is an invalid float value\n",
      "The `max_size` parameter is deprecated and will be removed in v4.26. Please specify in `size['longest_edge'] instead`.\n"
     ]
    }
   ],
   "source": [
    "raw_pdf_elements = partition_pdf('../see_report.pdf', \n",
    "                    strategy='hi_res', \n",
    "                    pages=list(range(9, total_pages+1)), \n",
    "                    extract_images_in_pdf=True,\n",
    "                    infer_table_structure=True,\n",
    "                    chunking_strategy=\"by_title\",)"
   ]
  },
  {
   "cell_type": "code",
   "execution_count": 5,
   "id": "7f6386cf",
   "metadata": {},
   "outputs": [
    {
     "name": "stderr",
     "output_type": "stream",
     "text": [
      "100%|██████████| 262/262 [00:00<00:00, 405351.40it/s]\n"
     ]
    }
   ],
   "source": [
    "from tqdm import tqdm\n",
    "\n",
    "tables, texts, images = [], [], []\n",
    "\n",
    "for element in tqdm(raw_pdf_elements):\n",
    "    if \"unstructured.documents.elements.Table\" in str(type(element)):\n",
    "        tables.append(str(element))\n",
    "    elif \"unstructured.documents.elements.CompositeElement\" in str(type(element)):\n",
    "        texts.append(str(element))\n",
    "    elif \"unstructured.documents.elements.Image\" in str(type(element)):\n",
    "        images.append(element)"
   ]
  },
  {
   "cell_type": "code",
   "execution_count": null,
   "id": "9bba5d63",
   "metadata": {},
   "outputs": [],
   "source": []
  }
 ],
 "metadata": {
  "kernelspec": {
   "display_name": "venv",
   "language": "python",
   "name": "python3"
  },
  "language_info": {
   "codemirror_mode": {
    "name": "ipython",
    "version": 3
   },
   "file_extension": ".py",
   "mimetype": "text/x-python",
   "name": "python",
   "nbconvert_exporter": "python",
   "pygments_lexer": "ipython3",
   "version": "3.12.1"
  }
 },
 "nbformat": 4,
 "nbformat_minor": 5
}
